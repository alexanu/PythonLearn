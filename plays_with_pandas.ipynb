{
 "cells": [
  {
   "cell_type": "code",
   "execution_count": null,
   "metadata": {},
   "outputs": [],
   "source": [
    "import pandas as pd\n",
    "from pandas import DataFrame, Series\n",
    "import numpy as np\n",
    "\n",
    "import datetime\n",
    "from datetime import datetime, date\n",
    "\n",
    "import matplotlib.pyplot as plt"
   ]
  },
  {
   "cell_type": "code",
   "execution_count": null,
   "metadata": {},
   "outputs": [],
   "source": [
    "pd.set_option('display.max_columns',7)\n",
    "pd.set_option('display.max_rows',10)"
   ]
  },
  {
   "cell_type": "code",
   "execution_count": null,
   "metadata": {},
   "outputs": [],
   "source": [
    "# usually only the last row from a cell is shown\n",
    "# the command below swithces it to show all the outputcommands from a cell\n",
    "from IPython.core.interactiveshell import InteractiveShell\n",
    "InteractiveShell.ast_node_interactivity = \"all\""
   ]
  },
  {
   "cell_type": "code",
   "execution_count": null,
   "metadata": {},
   "outputs": [],
   "source": [
    "# getting working directory\n",
    "import os\n",
    "os.getcwd()"
   ]
  },
  {
   "cell_type": "markdown",
   "metadata": {},
   "source": [
    "# Series"
   ]
  },
  {
   "cell_type": "markdown",
   "metadata": {},
   "source": [
    "## Creation of Series"
   ]
  },
  {
   "cell_type": "code",
   "execution_count": null,
   "metadata": {},
   "outputs": [],
   "source": [
    "# series is similar to a NumPy array, but it differs by having an index\n",
    "\n",
    "s = Series([1,2,3,4])\n",
    "new_s = Series([3,4,5,6,7],\n",
    "              index=['a','b','c','d','e'])\n",
    "Series([3]*5)\n",
    "\n",
    "Series(list('abcde'))\n",
    "\n",
    "Series(np.arange(4,9)) # using the numpy function\n",
    "Series(np.linspace(0,9,5)) # allows to specify the number of values to be created btw boundaries\n",
    "\n",
    "dates=pd.date_range('2016-08-01','2017-08-01')\n",
    "pd.date_range('2016-08-01','2017-08-01', freq='M')\n",
    "\n",
    "np.random.seed(1234) \n",
    "Series(np.random.normal(size=5))\n",
    "np.random.randint(50,101,len(dates))\n",
    "\n",
    "import random, string\n",
    "random.seed(10)\n",
    "random.choices(string.ascii_lowercase,k=5) # generates k random letters"
   ]
  },
  {
   "cell_type": "markdown",
   "metadata": {},
   "source": [
    "## Selection of members of Series"
   ]
  },
  {
   "cell_type": "code",
   "execution_count": null,
   "metadata": {},
   "outputs": [],
   "source": [
    "s[3]\n",
    "s[[1,3]]\n",
    "s.head()\n",
    "s[:5]\n",
    "s[:-2] # all but the last 2\n",
    "\n",
    "new_s = Series([3,4,5,6,7], index=['a','b','c','d','e'])\n",
    "new_s[['a','c']]\n",
    "new_s[[0,2]]\n",
    "\n",
    "np.random.seed(1234) \n",
    "big=Series(np.random.normal(size=20))\n",
    "big[3:17:4] # step 4\n",
    "\n",
    "bob = Series(np.arange(3,30,3))\n",
    "bob >15\n",
    "bob[(bob>15) & (bob<25)]\n",
    "\n",
    "\n",
    "line = Series(np.random.randint(1,200,size=1000))\n",
    "line.sample(n=3)\n",
    "line.sample(frac=0.05) #selects 5% of data\n",
    "\n"
   ]
  },
  {
   "cell_type": "markdown",
   "metadata": {},
   "source": [
    "# Actions with Series"
   ]
  },
  {
   "cell_type": "code",
   "execution_count": null,
   "metadata": {
    "scrolled": true
   },
   "outputs": [],
   "source": [
    "s= Series(np.random.randint(50,60,size=20))\n",
    "s.values\n",
    "s.index\n",
    "len(s)\n",
    "s.size\n",
    "s.mean()\n",
    "s.unique()\n",
    "s.nunique()# number of unique values\n",
    "s.value_counts()\n",
    "s.idxmax()\n",
    "s.describe()\n",
    "s.rank()"
   ]
  },
  {
   "cell_type": "code",
   "execution_count": null,
   "metadata": {},
   "outputs": [],
   "source": [
    "(bob>10).any()\n",
    "(bob>2).all()\n",
    "(bob>15).sum()"
   ]
  },
  {
   "cell_type": "code",
   "execution_count": null,
   "metadata": {},
   "outputs": [],
   "source": [
    "# rolling window\n",
    "s = Series(np.random.randint(1,200,size=1000))\n",
    "s[:5]\n",
    "s.plot()\n",
    "r=s.rolling(window=10)\n",
    "r.mean().plot()"
   ]
  },
  {
   "cell_type": "code",
   "execution_count": null,
   "metadata": {},
   "outputs": [],
   "source": [
    "np.random.seed(234)\n",
    "goa=Series(np.random.normal(size=5))\n",
    "goa[5]=100\n",
    "del(goa[2])\n",
    "goa"
   ]
  },
  {
   "cell_type": "markdown",
   "metadata": {},
   "source": [
    "# Dataframe (many Series)"
   ]
  },
  {
   "cell_type": "markdown",
   "metadata": {},
   "source": [
    "A data frame represents one or more Series objects aligned by index label"
   ]
  },
  {
   "cell_type": "code",
   "execution_count": null,
   "metadata": {},
   "outputs": [],
   "source": [
    "temp_df=DataFrame({'Hurra':s,\n",
    "                  'Pinguin':s_new})\n",
    "temp_df"
   ]
  },
  {
   "cell_type": "code",
   "execution_count": null,
   "metadata": {},
   "outputs": [],
   "source": [
    "# Creating dataframe with categories\n",
    "# Generating a grade to a random score using pre-defined ranges\n",
    "np.random.seed(123456)\n",
    "names = ['Ali','Alo','Sash','Igor','Dave','Tom','Kol','Are','Tro','Gru']\n",
    "grades=np.random.randint(50,101,len(names))\n",
    "scores=pd.DataFrame({'Name':names,\n",
    "                     'Grade':grades})\n",
    "scores_bins=[0,59,62,66,69,72,76,79,82,86,89,92,99,100]\n",
    "letter_grades=['F','D-','D','D+','C-','C','C+','B-','B','B+','A-','A','A+']\n",
    "scores['Letter']=pd.cut(scores.Grade,scores_bins,labels=letter_grades)\n",
    "scores\n",
    "scores.Letter.value_counts()"
   ]
  },
  {
   "cell_type": "code",
   "execution_count": null,
   "metadata": {},
   "outputs": [],
   "source": [
    "# Reading from csv on drive and from URL\n",
    "USDCHF=pd.read_csv(\"C:\\\\Users\\\\oleksander.anufriyev\\\\Downloads\\\\USDCHF_2017.csv\",\n",
    "                   parse_dates=['Date'])\n",
    "NQ100=pd.read_csv(\"http://www.nasdaq.com/quotes/nasdaq-100-stocks.aspx?render=download\",\n",
    "                 usecols=[0,1,2,5],\n",
    "                 index_col='Symbol',\n",
    "                 skipinitialspace=True)"
   ]
  },
  {
   "cell_type": "code",
   "execution_count": null,
   "metadata": {},
   "outputs": [],
   "source": [
    "type(USDCHF.Time[0])\n",
    "type(NQ100['lastsale'])\n",
    "USDCHF.dtypes"
   ]
  },
  {
   "cell_type": "code",
   "execution_count": null,
   "metadata": {},
   "outputs": [],
   "source": [
    "# size of data frame\n",
    "len(NQ100)\n",
    "temp_df.shape"
   ]
  },
  {
   "cell_type": "code",
   "execution_count": null,
   "metadata": {},
   "outputs": [],
   "source": [
    "NQ100.columns"
   ]
  },
  {
   "cell_type": "code",
   "execution_count": null,
   "metadata": {},
   "outputs": [],
   "source": [
    "# Rename columns\n",
    "NQ100new=NQ100.rename(columns={'lastsale':'Last'})\n",
    "NQ100new.head()\n",
    "NQ100.rename(columns={'lastsale':'Last'},\n",
    "             inplace=True)\n",
    "NQ100.head()"
   ]
  },
  {
   "cell_type": "code",
   "execution_count": null,
   "metadata": {},
   "outputs": [],
   "source": [
    "# Creation of new columns\n",
    "NQ100['Capitalisation']=NQ100.Last*NQ100.share_volume\n",
    "temp_df['new_column']=temp_df.Hurra-temp_df.Pinguin\n",
    "NQ100['Random']=Series(np.random.normal(size=len(NQ100)),index=NQ100.index)\n",
    "\n",
    "NQ100.insert(1,'Rand',Series(np.random.normal(size=len(NQ100)),index=NQ100.index))\n",
    "\n",
    "NQ100.Randomize=NQ100.Rand\n",
    "\n",
    "USDCHF['Minute_ClCl']=USDCHF.Close.diff()\n",
    "UC=USDCHF.dropna()\n",
    "NQ100.head()\n",
    "\n",
    "\n",
    "np.random.seed(123456)\n",
    "values=np.random.randint(0,100,5)\n",
    "bins = pd.DataFrame({'Values':values})\n",
    "bins['Group']=pd.cut(values,range(0,101,10))\n",
    "bins\n",
    "bins.Group\n",
    "\n",
    "\n",
    "# Creating dataframe with categories\n",
    "# Generating a grade to a random score using pre-defined ranges\n",
    "np.random.seed(123456)\n",
    "names = ['Ali','Alo','Sash','Igor','Dave','Tom','Kol','Are','Tro','Gru']\n",
    "grades=np.random.randint(50,101,len(names))\n",
    "scores=pd.DataFrame({'Name':names,\n",
    "                     'Grade':grades})\n",
    "scores_bins=[0,59,62,66,69,72,76,79,82,86,89,92,99,100]\n",
    "letter_grades=['F','D-','D','D+','C-','C','C+','B-','B','B+','A-','A','A+']\n",
    "scores['Letter']=pd.cut(scores.Grade,scores_bins,labels=letter_grades)\n",
    "scores.Letter.value_counts()"
   ]
  },
  {
   "cell_type": "code",
   "execution_count": null,
   "metadata": {},
   "outputs": [],
   "source": [
    "#making subsets\n",
    "USDCHF[USDCHF.Volume>200]\n",
    "NQ100[(NQ100.share_volume>10000000) &\n",
    "     (NQ100.lastsale<40)]['Name']\n",
    "UC.nlargest(20,'Minute_ClCl')\n",
    "USDCHF[2:5]\n",
    "NQ100.sample(n=6)\n",
    "NQ100.loc['GOOG']\n",
    "temp_df['Hurra'][1:3]\n",
    "temp_df.iloc[1]\n",
    "NQ100.at['FB','Last']"
   ]
  },
  {
   "cell_type": "code",
   "execution_count": null,
   "metadata": {},
   "outputs": [],
   "source": [
    "# delete columns\n",
    "UC_new.drop(UC_new.columns[[3,4]],axis=1)\n",
    "\n",
    "\n",
    "# delete rows\n",
    "NQ100_small.drop('PYPL')\n",
    "\n",
    "NQ100new[-NQ100new.Last>1000]"
   ]
  },
  {
   "cell_type": "code",
   "execution_count": null,
   "metadata": {},
   "outputs": [],
   "source": [
    "# Appending rows\n",
    "UC_new= UC.nlargest(20,'Volume')\n",
    "UC_new.append(UC.nlargest(20,'Minute_ClCl'))\n",
    "pd.concat([UC.sample(n=10),\n",
    "         UC.sample(n=10)])\n",
    "NQ100_small=NQ100.sample(n=4)\n",
    "NQ100_small.loc['ZABR']=['Ukraine',100,120,1,2,3] # the number of columns should match\n",
    "NQ100_small.head()"
   ]
  },
  {
   "cell_type": "code",
   "execution_count": null,
   "metadata": {},
   "outputs": [],
   "source": [
    "# Actions\n",
    "np.random.seed(12345)\n",
    "df= pd.DataFrame(np.random.randn(5,4),columns=['A','B','C','D'])\n",
    "df\n",
    "\n",
    "df*2\n",
    "df-df.iloc[0]\n",
    "df - df[1:4][['B','C']]\n",
    "\n",
    "df.count()\n",
    "\n",
    "\n",
    "NQ100=pd.read_csv(\"http://www.nasdaq.com/quotes/nasdaq-100-stocks.aspx?render=download\",\n",
    "                 index_col='Symbol',\n",
    "                 skipinitialspace=True)\n",
    "NQ100.nsmallest(4,'share_volume')['share_volume']\n",
    "NQ100.share_volume.nlargest(4)\n",
    "\n",
    "\n",
    "USDCHF=pd.read_csv(\"C:\\\\Users\\\\oleksander.anufriyev\\\\Downloads\\\\USDCHF_2017.csv\",\n",
    "                   parse_dates=['Date'],\n",
    "                   skipinitialspace=True)\n",
    "USDCHF.describe()\n",
    "USDCHF.std()\n",
    "USDCHF.median()\n"
   ]
  },
  {
   "cell_type": "markdown",
   "metadata": {},
   "source": [
    "## Indexing"
   ]
  },
  {
   "cell_type": "code",
   "execution_count": null,
   "metadata": {},
   "outputs": [],
   "source": [
    "new_s = Series([3,4,5,6,7],\n",
    "              index=['a','b','c','d','e'])\n",
    "\n",
    "s = Series([34,34,23,45,2,5,23,45,56],\n",
    "        index=dates[1:10])\n",
    "dave=Series(2,index=s.index)\n",
    "\n",
    "\n",
    "kevin=Series(['red','green','blue'],index=[0,3,5])\n",
    "kevin.reindex(np.arange(0,10),method='ffill')\n",
    "\n",
    "\n",
    "NQ100=pd.read_csv(\"http://www.nasdaq.com/quotes/nasdaq-100-stocks.aspx?render=download\",\n",
    "                 usecols=[0,1,2,5],\n",
    "                 index_col='Symbol',\n",
    "                 skipinitialspace=True)\n",
    "\n",
    "\n",
    "rng=pd.date_range('6/13/2012',periods=5,freq='H')\n",
    "ts = Series(np.random.randn(len(rng)),\n",
    "           index=rng)"
   ]
  },
  {
   "cell_type": "code",
   "execution_count": null,
   "metadata": {},
   "outputs": [],
   "source": [
    "np.random.seed(123456)\n",
    "df = pd.DataFrame({'foo':np.random.random(10000),'key':range(100,10100)})\n",
    "\n",
    "%timeit df[df.key==10099] # following code performs the lookup repeatedly and reports on the performance"
   ]
  },
  {
   "cell_type": "code",
   "execution_count": null,
   "metadata": {},
   "outputs": [],
   "source": [
    "df_with_index = df.set_index(['key'])\n",
    "%timeit df_with_index.loc[10099]"
   ]
  },
  {
   "cell_type": "code",
   "execution_count": null,
   "metadata": {},
   "outputs": [],
   "source": [
    "dep = pd.DataFrame(np.arange(10,15))\n",
    "dep.index"
   ]
  },
  {
   "cell_type": "code",
   "execution_count": null,
   "metadata": {},
   "outputs": [],
   "source": [
    "# multiple indexes\n",
    "USDCHF=pd.read_csv(\"C:\\\\Users\\\\oleksander.anufriyev\\\\Downloads\\\\USDCHF_2017.csv\",\n",
    "                   parse_dates=['Date'],\n",
    "                   skipinitialspace=True)\n",
    "USDCHF=USDCHF.set_index(['Date','Time'])\n",
    "len(USDCHF.index.levels)\n",
    "USDCHF.index.levels[0]\n",
    "USDCHF.index.levels[1]"
   ]
  },
  {
   "cell_type": "markdown",
   "metadata": {},
   "source": [
    "# Export & Import"
   ]
  },
  {
   "cell_type": "code",
   "execution_count": null,
   "metadata": {},
   "outputs": [],
   "source": [
    "# Reading from csv on drive and from URL\n",
    "USDCHF=pd.read_csv(\"C:\\\\Users\\\\oleksander.anufriyev\\\\Downloads\\\\USDCHF_2017.csv\",\n",
    "                   parse_dates=['Date'])\n",
    "NQ100=pd.read_csv(\"http://www.nasdaq.com/quotes/nasdaq-100-stocks.aspx?render=download\",\n",
    "                 usecols=[0,1,2,5],\n",
    "                 index_col='Symbol',\n",
    "                 skipinitialspace=True)\n",
    "\n",
    "# there is also read_excel"
   ]
  },
  {
   "cell_type": "code",
   "execution_count": null,
   "metadata": {},
   "outputs": [],
   "source": [
    "# saving to CSV\n",
    "scores=pd.DataFrame({'Name':['Ali','Alo','Sash','Igor','Dave','Tom','Kol','Are','Tro','Gru'],\n",
    "                     'Grade':np.random.randint(50,101,10)})\n",
    "scores.to_csv('scores.csv') # there is also to_excel"
   ]
  },
  {
   "cell_type": "code",
   "execution_count": null,
   "metadata": {},
   "outputs": [],
   "source": []
  }
 ],
 "metadata": {
  "kernelspec": {
   "display_name": "Python 3",
   "language": "python",
   "name": "python3"
  },
  "language_info": {
   "codemirror_mode": {
    "name": "ipython",
    "version": 3
   },
   "file_extension": ".py",
   "mimetype": "text/x-python",
   "name": "python",
   "nbconvert_exporter": "python",
   "pygments_lexer": "ipython3",
   "version": "3.6.5"
  }
 },
 "nbformat": 4,
 "nbformat_minor": 2
}
